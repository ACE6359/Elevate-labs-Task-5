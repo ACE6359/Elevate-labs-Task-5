{
 "cells": [
  {
   "cell_type": "markdown",
   "id": "f64d6913-dbea-4661-82cf-856eb49055bd",
   "metadata": {},
   "source": [
    "# 📊 Sales Data Analysis\n",
    "**Objective:** Analyze sales data to extract insights on products, regions, salespersons, and trends.  \n",
    "\n",
    "**Tools:** Python, Pandas, Matplotlib, Seaborn  \n",
    "\n",
    "**Dataset:** 500 rows of simulated sales data with columns: Date, Product, Region, Salesperson, Quantity, UnitPrice, Sales"
   ]
  },
  {
   "cell_type": "code",
   "execution_count": null,
   "id": "3efb7200-06c9-4288-a928-48ba92309658",
   "metadata": {},
   "outputs": [],
   "source": [
    "import pandas as pd\n",
    "import matplotlib.pyplot as plt\n",
    "import seaborn as sns\n",
    "\n",
    "sns.set(style=\"whitegrid\", palette=\"Set2\")\n",
    "df = pd.read_csv(\"sales_data.csv\")\n",
    "df[\"Date\"] = pd.to_datetime(df[\"Date\"])\n",
    "df[\"Month\"] = df[\"Date\"].dt.month_name()"
   ]
  },
  {
   "cell_type": "markdown",
   "id": "86006f6e-b459-492a-952d-ff4dccb4f386",
   "metadata": {},
   "source": [
    "## 🔹 Step 1: Explore Dataset\n",
    "\n",
    "- Preview first 10 rows to understand data structure.\n",
    "- Check dataset info: columns, data types, and non-null values.\n",
    "- Summary statistics for numeric columns: Quantity, UnitPrice, Sales.\n",
    "- Check for missing values.\n",
    "\n",
    "**Observation:**\n",
    "- No missing values present.\n",
    "- Sales values are calculated as Quantity × UnitPrice.\n"
   ]
  },
  {
   "cell_type": "code",
   "execution_count": null,
   "id": "9f35d954-3a2a-4834-9d9a-b8f32c0a05d6",
   "metadata": {},
   "outputs": [],
   "source": [
    "# Cell 2: Explore Dataset\n",
    "display(df.head(10))\n",
    "df.info()\n",
    "df.describe()\n",
    "df.isnull().sum()\n"
   ]
  },
  {
   "cell_type": "markdown",
   "id": "3f831a6c-f380-4e17-a663-c05d8dbbd450",
   "metadata": {},
   "source": [
    "## 🔹 Step 2: Basic Aggregation\n",
    "\n",
    "- **Total Sales:** Sum of all sales.\n",
    "- **Sales by Product:** Identify best-selling products.\n",
    "- **Sales by Region:** Determine regions generating highest revenue.\n",
    "- **Sales by Month:** Observe monthly trends.\n",
    "\n",
    "**Observations:**\n",
    "- Highest sales product: Laptop/Phone (based on bar chart).\n",
    "- Top-performing region: North/South (from bar chart).\n",
    "- Sales peak months: Feb or Mar (based on monthly bar chart).\n"
   ]
  },
  {
   "cell_type": "code",
   "execution_count": null,
   "id": "9ffb5e7c-2842-413c-a147-9127f2b5b1fb",
   "metadata": {},
   "outputs": [],
   "source": [
    "# Cell 3: Basic Insights\n",
    "total_sales = df[\"Sales\"].sum()\n",
    "sales_by_product = df.groupby(\"Product\")[\"Sales\"].sum().sort_values(ascending=False)\n",
    "sales_by_region = df.groupby(\"Region\")[\"Sales\"].sum().sort_values(ascending=False)\n",
    "sales_by_month = df.groupby(\"Month\")[\"Sales\"].sum()\n"
   ]
  },
  {
   "cell_type": "markdown",
   "id": "3130cf65-4b33-4259-b30b-b3023f4ddf9b",
   "metadata": {},
   "source": [
    "## 🔹 Step 3: Visualizations\n",
    "\n",
    "- Bar charts for Product, Region, and Month sales.\n",
    "- Line chart for daily sales trend.\n",
    "- Charts help identify top performers and trends over time.\n",
    "\n",
    "**Observation:**\n",
    "- Peaks in daily sales indicate high-demand days.\n",
    "- Product/region performance is visually clear from charts."
   ]
  },
  {
   "cell_type": "code",
   "execution_count": null,
   "id": "6daef2d4-14fc-4ebc-9ade-acf8211d9d85",
   "metadata": {},
   "outputs": [],
   "source": [
    "# Cell 4: Sales by Product\n",
    "plt.figure(figsize=(8,5))\n",
    "sns.barplot(x=sales_by_product.index, y=sales_by_product.values)\n",
    "plt.title(\"Sales by Product\")\n",
    "plt.ylabel(\"Total Sales\")\n",
    "plt.xticks(rotation=45)\n",
    "plt.show()\n",
    "\n",
    "# Sales by Region\n",
    "plt.figure(figsize=(6,5))\n",
    "sns.barplot(x=sales_by_region.index, y=sales_by_region.values)\n",
    "plt.title(\"Sales by Region\")\n",
    "plt.ylabel(\"Total Sales\")\n",
    "plt.show()\n",
    "\n",
    "# Daily Sales Trend\n",
    "plt.figure(figsize=(12,5))\n",
    "df.groupby(\"Date\")[\"Sales\"].sum().plot(kind=\"line\", marker=\"o\")\n",
    "plt.title(\"Daily Sales Trend\")\n",
    "plt.ylabel(\"Sales\")\n",
    "plt.show()\n",
    "\n",
    "# Sales by Month\n",
    "plt.figure(figsize=(6,5))\n",
    "sns.barplot(x=sales_by_month.index, y=sales_by_month.values)\n",
    "plt.title(\"Sales by Month\")\n",
    "plt.ylabel(\"Total Sales\")\n",
    "plt.show()\n"
   ]
  },
  {
   "cell_type": "markdown",
   "id": "87a2ee3a-5780-4711-b861-fe8a62e20d99",
   "metadata": {},
   "source": [
    "## 🔹 Step 4: Advanced Insights\n",
    "\n",
    "1. **Top 3 Salespersons**\n",
    "   - Alice, Bob, etc., generate highest revenue.\n",
    "\n",
    "2. **Best Region per Product**\n",
    "   - Pivot table shows which region sells most of each product.\n",
    "\n",
    "3. **Correlation Heatmap**\n",
    "   - Quantity × UnitPrice has strong positive correlation with Sales.\n"
   ]
  },
  {
   "cell_type": "code",
   "execution_count": null,
   "id": "809ac025-c05e-46f7-ad5e-dec775ea7814",
   "metadata": {},
   "outputs": [],
   "source": [
    "# Cell 5: Advanced Insights\n",
    "top_salespersons = df.groupby(\"Salesperson\")[\"Sales\"].sum().sort_values(ascending=False)\n",
    "best_region_per_product = df.pivot_table(index=\"Product\", columns=\"Region\", values=\"Sales\", aggfunc=\"sum\")\n",
    "correlation = df[[\"Quantity\",\"UnitPrice\",\"Sales\"]].corr()"
   ]
  },
  {
   "cell_type": "markdown",
   "id": "0aab9ec6-dd1b-422a-974f-93e623142055",
   "metadata": {},
   "source": [
    "## ✅ Step 5: Conclusion\n",
    "\n",
    "- **Best-Selling Product:** Laptop (highest total sales)\n",
    "- **Top Region:** North (most revenue contribution)\n",
    "- **Top Salesperson:** Alice (highest sales among team)\n",
    "- **Trends:** Sales increase towards end of months, showing potential seasonal demand\n",
    "\n",
    "**Insights for Action:**\n",
    "- Focus marketing efforts on top products and regions\n",
    "- Reward high-performing salespersons\n",
    "- Monitor inventory for peak sales periods\n"
   ]
  },
  {
   "cell_type": "code",
   "execution_count": null,
   "id": "4e9f6741-4e12-439b-9bc5-41e34597d839",
   "metadata": {},
   "outputs": [],
   "source": [
    "# Top 3 Salespersons\n",
    "plt.figure(figsize=(6,4))\n",
    "sns.barplot(x=top_salespersons.index, y=top_salespersons.values)\n",
    "plt.title(\"Top Salespersons by Sales\")\n",
    "plt.ylabel(\"Total Sales\")\n",
    "plt.show()\n",
    "\n",
    "# Heatmap: Best Region per Product\n",
    "plt.figure(figsize=(10,6))\n",
    "sns.heatmap(best_region_per_product, annot=True, fmt=\".0f\", cmap=\"YlGnBu\")\n",
    "plt.title(\"Sales by Product and Region\")\n",
    "plt.show()\n",
    "\n",
    "# Correlation Heatmap\n",
    "plt.figure(figsize=(6,5))\n",
    "sns.heatmap(correlation, annot=True, cmap=\"coolwarm\")\n",
    "plt.title(\"Correlation Between Quantity, UnitPrice, and Sales\")\n",
    "plt.show()\n"
   ]
  },
  {
   "cell_type": "code",
   "execution_count": null,
   "id": "723daea2-059b-49bd-b810-4310b649f905",
   "metadata": {},
   "outputs": [],
   "source": []
  }
 ],
 "metadata": {
  "kernelspec": {
   "display_name": "Python 3 (ipykernel)",
   "language": "python",
   "name": "python3"
  },
  "language_info": {
   "codemirror_mode": {
    "name": "ipython",
    "version": 3
   },
   "file_extension": ".py",
   "mimetype": "text/x-python",
   "name": "python",
   "nbconvert_exporter": "python",
   "pygments_lexer": "ipython3",
   "version": "3.13.7"
  }
 },
 "nbformat": 4,
 "nbformat_minor": 5
}
